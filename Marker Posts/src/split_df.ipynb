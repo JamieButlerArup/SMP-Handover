{
 "cells": [
  {
   "cell_type": "code",
   "execution_count": 16,
   "metadata": {},
   "outputs": [],
   "source": [
    "import pandas as pd\n",
    "\n",
    "\n",
    "input_df = pd.read_csv(\"../files/output/Utility Marker Post.csv\")\n",
    "\n",
    "\n",
    "col_limit = len(input_df.columns.to_list())-1\n",
    "row_limit = len(input_df)\n",
    "\n",
    "col_split = 13\n",
    "row_split = 100\n",
    "\n",
    "col_num = 0\n",
    "df_col_count = 0\n",
    "df_row_count = 0\n",
    "df_dict = {}\n",
    "\n",
    "\n",
    "while col_num+col_split <= col_limit:\n",
    "    df_col_count += 1\n",
    "    df_row_count = 0\n",
    "    col_num += col_split\n",
    "    row_num = 0\n",
    "\n",
    "    while row_num+row_split <= row_limit:\n",
    "        df_row_count += 1\n",
    "        row_num += row_split\n",
    "        df_name = \"utility_\" + str(df_col_count) + \"_\" + str(df_row_count)\n",
    "\n",
    "        arup_ref_df = input_df.iloc[row_num-row_split:row_num,col_limit::]\n",
    "        df_dict[df_name] = input_df.iloc[row_num-row_split:row_num,col_num-col_split:col_num]\n",
    "\n",
    "        df_dict[df_name] = df_dict[df_name].join(arup_ref_df)\n",
    "\n",
    "    if row_num+row_split > row_limit:\n",
    "        df_row_count += 1\n",
    "        df_name = \"utility_\" + str(df_col_count) + \"_\" + str(df_row_count)\n",
    "\n",
    "        arup_ref_df = input_df.iloc[row_num:row_limit,col_limit::]\n",
    "        df_dict[df_name] = input_df.iloc[row_num:row_limit,col_num-col_split:col_num]\n",
    "\n",
    "        df_dict[df_name] = df_dict[df_name].join(arup_ref_df)\n",
    "\n",
    "if col_num+col_split > col_limit:\n",
    "    df_col_count += 1\n",
    "    df_row_count = 0\n",
    "    row_num = 0\n",
    "\n",
    "    while row_num+row_split <= row_limit:\n",
    "        df_row_count += 1\n",
    "        row_num += row_split\n",
    "        df_name = \"utility_\" + str(df_col_count) + \"_\" + str(df_row_count)\n",
    "\n",
    "        arup_ref_df = input_df.iloc[row_num-row_split:row_num,col_limit::]\n",
    "        df_dict[df_name] = input_df.iloc[row_num-row_split:row_num,col_num:col_limit]\n",
    "\n",
    "        df_dict[df_name] = df_dict[df_name].join(arup_ref_df)\n",
    "\n",
    "    if row_num+row_split > row_limit:\n",
    "        df_row_count += 1\n",
    "        df_name = \"utility_\" + str(df_col_count) + \"_\" + str(df_row_count)\n",
    "\n",
    "        arup_ref_df = input_df.iloc[row_num:row_limit,col_limit::]\n",
    "        df_dict[df_name] = input_df.iloc[row_num:row_limit,col_num:col_limit]\n",
    "\n",
    "        df_dict[df_name] = df_dict[df_name].join(arup_ref_df)\n"
   ]
  },
  {
   "cell_type": "code",
   "execution_count": 2,
   "metadata": {},
   "outputs": [],
   "source": [
    "#print(df_dict[\"Signs_1_1\"].to_string())"
   ]
  },
  {
   "cell_type": "code",
   "execution_count": 15,
   "metadata": {},
   "outputs": [],
   "source": [
    "for k, v in df_dict.items():\n",
    "    v.to_csv(\"../files/output/utility marker/\" + k + \".csv\", index=False)"
   ]
  }
 ],
 "metadata": {
  "kernelspec": {
   "display_name": "Python 3",
   "language": "python",
   "name": "python3"
  },
  "language_info": {
   "codemirror_mode": {
    "name": "ipython",
    "version": 3
   },
   "file_extension": ".py",
   "mimetype": "text/x-python",
   "name": "python",
   "nbconvert_exporter": "python",
   "pygments_lexer": "ipython3",
   "version": "3.10.10"
  }
 },
 "nbformat": 4,
 "nbformat_minor": 2
}
